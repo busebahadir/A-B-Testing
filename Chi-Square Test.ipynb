{
 "cells": [
  {
   "cell_type": "code",
   "execution_count": 1,
   "id": "b9b80077",
   "metadata": {},
   "outputs": [],
   "source": [
    "import pandas as pd\n",
    "import numpy as np\n",
    "import matplotlib.pyplot as plt\n",
    "import seaborn as sns"
   ]
  },
  {
   "cell_type": "markdown",
   "id": "ee465253",
   "metadata": {},
   "source": [
    "We will perform Chi Square Test to understand if there a significant change in the categorical outcomes such as Signing Up, Downloading, Filling Submission Form and Purchase with CTA Button and Color Schema change.\n",
    "\n",
    "Null Hypothesis (H0): There is no significant difference in the proportions of SignUp, Download, Form Submission and Purchase among the groups.\n",
    "Alternative Hypothesis (H1): There is a significant difference in the proportions of SignUp, Download, Form Submission and Purchase among the groups."
   ]
  },
  {
   "cell_type": "code",
   "execution_count": 10,
   "id": "873051f3",
   "metadata": {},
   "outputs": [],
   "source": [
    "data = pd.read_csv('/Users/busebahadir/Desktop/A:B Testing/digital_marketing_dataset.csv')"
   ]
  },
  {
   "cell_type": "code",
   "execution_count": 11,
   "id": "01aa6b55",
   "metadata": {},
   "outputs": [],
   "source": [
    "#Let's create the contingency tables\n",
    "crossed_1 = pd.crosstab(data.Group, data.SignUps)\n",
    "crossed_2 = pd.crosstab(data.Group, data.Downloads)\n",
    "crossed_3 = pd.crosstab(data.Group, data.FormSubmissions)\n",
    "crossed_4 = pd.crosstab(data.Group, data.Purchases)"
   ]
  },
  {
   "cell_type": "code",
   "execution_count": 4,
   "id": "19dc81ed",
   "metadata": {},
   "outputs": [],
   "source": [
    "import scipy as sp\n",
    "import scipy.stats"
   ]
  },
  {
   "cell_type": "code",
   "execution_count": 5,
   "id": "d7c1187c",
   "metadata": {},
   "outputs": [],
   "source": [
    "x2, p, dof, expected = sp.stats.chi2_contingency(crossed_1,correction=False)"
   ]
  },
  {
   "cell_type": "code",
   "execution_count": 6,
   "id": "dd3ca436",
   "metadata": {},
   "outputs": [
    {
     "name": "stdout",
     "output_type": "stream",
     "text": [
      "Chi-square: 0.6317332232713673\n",
      "p-value: 0.426720268137768\n",
      "Degree of freedom: 1\n",
      "[[1046.  454.]\n",
      " [1046.  454.]]\n",
      "Not significant at 5% level of significance\n"
     ]
    }
   ],
   "source": [
    "print(\"Chi-square: %(x2)s\" %locals() )\n",
    "print(\"p-value: %(p)s\" %locals() )\n",
    "print(\"Degree of freedom: %(dof)s\" %locals() )\n",
    "print(expected)\n",
    "\n",
    "if p < 0.01:\n",
    "    print(\"Significant at 1% level of significance\")\n",
    "elif p < 0.05:\n",
    "    print(\"Significant at 5% level of significance\")\n",
    "else:\n",
    "    print(\"Not significant at 5% level of significance\")"
   ]
  },
  {
   "cell_type": "code",
   "execution_count": 7,
   "id": "6eca246b",
   "metadata": {},
   "outputs": [
    {
     "name": "stdout",
     "output_type": "stream",
     "text": [
      "Chi-square: 1.9750917838785105\n",
      "p-value: 0.15990843345248562\n",
      "Degree of freedom: 1\n",
      "[[1194.5  305.5]\n",
      " [1194.5  305.5]]\n",
      "Not significant at 5% level of significance\n"
     ]
    }
   ],
   "source": [
    "x2, p, dof, expected = sp.stats.chi2_contingency(crossed_2,correction=False)\n",
    "print(\"Chi-square: %(x2)s\" %locals() )\n",
    "print(\"p-value: %(p)s\" %locals() )\n",
    "print(\"Degree of freedom: %(dof)s\" %locals() )\n",
    "print(expected)\n",
    "\n",
    "if p < 0.01:\n",
    "    print(\"Significant at 1% level of significance\")\n",
    "elif p < 0.05:\n",
    "    print(\"Significant at 5% level of significance\")\n",
    "else:\n",
    "    print(\"Not significant at 5% level of significance\")"
   ]
  },
  {
   "cell_type": "code",
   "execution_count": 8,
   "id": "978d8ec9",
   "metadata": {},
   "outputs": [
    {
     "name": "stdout",
     "output_type": "stream",
     "text": [
      "Chi-square: 0.7383074569053147\n",
      "p-value: 0.39020360000825294\n",
      "Degree of freedom: 1\n",
      "[[908.5 591.5]\n",
      " [908.5 591.5]]\n",
      "Not significant at 5% level of significance\n"
     ]
    }
   ],
   "source": [
    "x2, p, dof, expected = sp.stats.chi2_contingency(crossed_3,correction=False)\n",
    "print(\"Chi-square: %(x2)s\" %locals() )\n",
    "print(\"p-value: %(p)s\" %locals() )\n",
    "print(\"Degree of freedom: %(dof)s\" %locals() )\n",
    "print(expected)\n",
    "\n",
    "if p < 0.01:\n",
    "    print(\"Significant at 1% level of significance\")\n",
    "elif p < 0.05:\n",
    "    print(\"Significant at 5% level of significance\")\n",
    "else:\n",
    "    print(\"Not significant at 5% level of significance\")"
   ]
  },
  {
   "cell_type": "code",
   "execution_count": 9,
   "id": "5e7df6a8",
   "metadata": {},
   "outputs": [
    {
     "name": "stdout",
     "output_type": "stream",
     "text": [
      "Chi-square: 0.1757786576011116\n",
      "p-value: 0.6750263791467721\n",
      "Degree of freedom: 1\n",
      "[[1344.5  155.5]\n",
      " [1344.5  155.5]]\n",
      "Not significant at 5% level of significance\n"
     ]
    }
   ],
   "source": [
    "x2, p, dof, expected = sp.stats.chi2_contingency(crossed_4,correction=False)\n",
    "print(\"Chi-square: %(x2)s\" %locals() )\n",
    "print(\"p-value: %(p)s\" %locals() )\n",
    "print(\"Degree of freedom: %(dof)s\" %locals() )\n",
    "print(expected)\n",
    "\n",
    "if p < 0.01:\n",
    "    print(\"Significant at 1% level of significance\")\n",
    "elif p < 0.05:\n",
    "    print(\"Significant at 5% level of significance\")\n",
    "else:\n",
    "    print(\"Not significant at 5% level of significance\")"
   ]
  },
  {
   "cell_type": "markdown",
   "id": "23c9b782",
   "metadata": {},
   "source": [
    "None of the turnover outcomes produces significant differences among Control and Test groups. Therefore, according to Chi-Square test, there is no evidence to decide whether we should select Button A or B, and Color Schema 1 or 2, based on the results of this A/B testing dataset."
   ]
  }
 ],
 "metadata": {
  "kernelspec": {
   "display_name": "Python 3 (ipykernel)",
   "language": "python",
   "name": "python3"
  },
  "language_info": {
   "codemirror_mode": {
    "name": "ipython",
    "version": 3
   },
   "file_extension": ".py",
   "mimetype": "text/x-python",
   "name": "python",
   "nbconvert_exporter": "python",
   "pygments_lexer": "ipython3",
   "version": "3.11.4"
  }
 },
 "nbformat": 4,
 "nbformat_minor": 5
}
